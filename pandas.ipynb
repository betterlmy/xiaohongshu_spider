{
 "cells": [
  {
   "cell_type": "code",
   "execution_count": 49,
   "metadata": {},
   "outputs": [],
   "source": [
    "import pandas as pd\n",
    "\n",
    "\n",
    "order = ['name_id', 'xhs_id', 'des', 'fans_num',\n",
    "         'all_likes_num', 'article_likes_num']\n",
    "\n",
    "test_info = {\n",
    "    'name_id': \"name1\",\n",
    "    'xhs_id': \"5201\",\n",
    "    'des': \"1\",\n",
    "    'fans_num': \"355\",\n",
    "    'all_likes_num': \"400\",\n",
    "    'article_likes_num': \"500\"\n",
    "}\n",
    "\n",
    "columns_map = {\n",
    "        'name_id': '用户名',\n",
    "        'xhs_id': '小红书id',\n",
    "        'des': '个人简介',\n",
    "        'fans_num': '粉丝数',\n",
    "        'all_likes_num': '点赞数',\n",
    "        'article_likes_num': '前两篇点赞数',\n",
    "    }\n"
   ]
  },
  {
   "cell_type": "code",
   "execution_count": 43,
   "metadata": {},
   "outputs": [
    {
     "ename": "TypeError",
     "evalue": "list indices must be integers or slices, not str",
     "output_type": "error",
     "traceback": [
      "\u001b[0;31m---------------------------------------------------------------------------\u001b[0m",
      "\u001b[0;31mTypeError\u001b[0m                                 Traceback (most recent call last)",
      "Cell \u001b[0;32mIn [43], line 3\u001b[0m\n\u001b[1;32m      1\u001b[0m df \u001b[39m=\u001b[39m pd\u001b[39m.\u001b[39mDataFrame(columns\u001b[39m=\u001b[39morder)\n\u001b[0;32m----> 3\u001b[0m info \u001b[39m=\u001b[39m \u001b[39mlist\u001b[39;49m(test_info[index_name] \u001b[39mfor\u001b[39;49;00m index_name \u001b[39min\u001b[39;49;00m order)\n",
      "Cell \u001b[0;32mIn [43], line 3\u001b[0m, in \u001b[0;36m<genexpr>\u001b[0;34m(.0)\u001b[0m\n\u001b[1;32m      1\u001b[0m df \u001b[39m=\u001b[39m pd\u001b[39m.\u001b[39mDataFrame(columns\u001b[39m=\u001b[39morder)\n\u001b[0;32m----> 3\u001b[0m info \u001b[39m=\u001b[39m \u001b[39mlist\u001b[39m(test_info[index_name] \u001b[39mfor\u001b[39;00m index_name \u001b[39min\u001b[39;00m order)\n",
      "\u001b[0;31mTypeError\u001b[0m: list indices must be integers or slices, not str"
     ]
    }
   ],
   "source": [
    "\n",
    "df = pd.DataFrame(columns=order)\n",
    "\n",
    "info = list(test_info[index_name] for index_name in order)\n"
   ]
  },
  {
   "cell_type": "code",
   "execution_count": 44,
   "metadata": {},
   "outputs": [],
   "source": [
    "df.loc[len(df)] = info"
   ]
  },
  {
   "cell_type": "code",
   "execution_count": 45,
   "metadata": {},
   "outputs": [
    {
     "data": {
      "text/html": [
       "<div>\n",
       "<style scoped>\n",
       "    .dataframe tbody tr th:only-of-type {\n",
       "        vertical-align: middle;\n",
       "    }\n",
       "\n",
       "    .dataframe tbody tr th {\n",
       "        vertical-align: top;\n",
       "    }\n",
       "\n",
       "    .dataframe thead th {\n",
       "        text-align: right;\n",
       "    }\n",
       "</style>\n",
       "<table border=\"1\" class=\"dataframe\">\n",
       "  <thead>\n",
       "    <tr style=\"text-align: right;\">\n",
       "      <th></th>\n",
       "      <th>用户名</th>\n",
       "      <th>小红书id</th>\n",
       "      <th>个人简介</th>\n",
       "      <th>粉丝数</th>\n",
       "      <th>点赞数</th>\n",
       "      <th>前两篇点赞数</th>\n",
       "    </tr>\n",
       "  </thead>\n",
       "  <tbody>\n",
       "    <tr>\n",
       "      <th>0</th>\n",
       "      <td>name1</td>\n",
       "      <td>5201</td>\n",
       "      <td></td>\n",
       "      <td>355</td>\n",
       "      <td>400</td>\n",
       "      <td>500</td>\n",
       "    </tr>\n",
       "  </tbody>\n",
       "</table>\n",
       "</div>"
      ],
      "text/plain": [
       "     用户名 小红书id 个人简介  粉丝数  点赞数 前两篇点赞数\n",
       "0  name1  5201       355  400    500"
      ]
     },
     "execution_count": 45,
     "metadata": {},
     "output_type": "execute_result"
    }
   ],
   "source": [
    "df.rename(columns=columns_map, inplace=True)\n",
    "df.fillna('空', inplace=True)\n",
    "df"
   ]
  },
  {
   "cell_type": "code",
   "execution_count": 48,
   "metadata": {},
   "outputs": [],
   "source": [
    "df.to_excel(\"output/1.xlsx\", encoding='utf-8', index=False)"
   ]
  }
 ],
 "metadata": {
  "kernelspec": {
   "display_name": "Python 3.9.13 ('spider')",
   "language": "python",
   "name": "python3"
  },
  "language_info": {
   "codemirror_mode": {
    "name": "ipython",
    "version": 3
   },
   "file_extension": ".py",
   "mimetype": "text/x-python",
   "name": "python",
   "nbconvert_exporter": "python",
   "pygments_lexer": "ipython3",
   "version": "3.9.13"
  },
  "orig_nbformat": 4,
  "vscode": {
   "interpreter": {
    "hash": "4da9313d3215b4d0542cfd42190eed209fab2c91bb8ecf2271a0fbf45e4f2221"
   }
  }
 },
 "nbformat": 4,
 "nbformat_minor": 2
}
