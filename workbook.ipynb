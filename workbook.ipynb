{
 "cells": [
  {
   "cell_type": "code",
   "execution_count": 1,
   "metadata": {},
   "outputs": [],
   "source": [
    "import os\n",
    "import openpyxl\n",
    "import time\n",
    "\n",
    "order = ['name_id', 'xhs_id', 'des', 'fans_num',\n",
    "         'all_likes_num', 'article_likes_num']\n",
    "\n",
    "test_info = {\n",
    "    'name_id': \"name1\",\n",
    "    'xhs_id': \"5201\",\n",
    "    'des': \"1\",\n",
    "    'fans_num': \"355\",\n",
    "    'all_likes_num': \"400\",\n",
    "    'article_likes_num': \"500\"\n",
    "}\n",
    "\n",
    "columns_map = {\n",
    "        'name_id': '用户名',\n",
    "        'xhs_id': '小红书id',\n",
    "        'des': '个人简介',\n",
    "        'fans_num': '粉丝数',\n",
    "        'all_likes_num': '点赞数',\n",
    "        'article_likes_num': '前两篇点赞数',\n",
    "    }\n"
   ]
  },
  {
   "cell_type": "code",
   "execution_count": 2,
   "metadata": {},
   "outputs": [],
   "source": []
  },
  {
   "cell_type": "code",
   "execution_count": 5,
   "metadata": {},
   "outputs": [
    {
     "name": "stdout",
     "output_type": "stream",
     "text": [
      "今日工作表已经存在,无需创建\n"
     ]
    }
   ],
   "source": [
    "def save_info_excel(info,name=\"info.xlsx\"):\n",
    "    columns_map = {\n",
    "        'name_id': '用户名',\n",
    "        'xhs_id': '小红书id',\n",
    "        'des': '个人简介',\n",
    "        'fans_num': '粉丝数',\n",
    "        'all_likes_num': '点赞数',\n",
    "        'article_likes_num': '前两篇点赞数',\n",
    "    }\n",
    "    if not os.path.exists(\"output/\"):\n",
    "        os.mkdir(\"output\")\n",
    "        print(\"output文件夹不存在,已自动创建\")\n",
    "        \n",
    "    # 每日创建新的Sheet\n",
    "    wb = openpyxl.load_workbook(\"output/info.xlsx\")\n",
    "    date = time.strftime(\"%m-%d\", time.localtime())\n",
    "    if date not in wb.sheetnames:\n",
    "        ws = wb.create_sheet(date,0)\n",
    "        print(\"新创建工作表\")\n",
    "        ws.append([v for k,v in columns_map.items()])\n",
    "    else:\n",
    "        print(\"今日工作表已经存在,无需创建\")\n",
    "        \n",
    "    wb.active = wb[date]\n",
    "    ws = wb.active\n",
    "    ws.append([1,\"2\"])\n",
    "    wb.save(\"output/info.xlsx\")\n",
    "# info_list = [test_info]"
   ]
  },
  {
   "cell_type": "code",
   "execution_count": null,
   "metadata": {},
   "outputs": [],
   "source": []
  }
 ],
 "metadata": {
  "kernelspec": {
   "display_name": "Python 3.9.13 ('spider')",
   "language": "python",
   "name": "python3"
  },
  "language_info": {
   "codemirror_mode": {
    "name": "ipython",
    "version": 3
   },
   "file_extension": ".py",
   "mimetype": "text/x-python",
   "name": "python",
   "nbconvert_exporter": "python",
   "pygments_lexer": "ipython3",
   "version": "3.9.13"
  },
  "orig_nbformat": 4,
  "vscode": {
   "interpreter": {
    "hash": "4da9313d3215b4d0542cfd42190eed209fab2c91bb8ecf2271a0fbf45e4f2221"
   }
  }
 },
 "nbformat": 4,
 "nbformat_minor": 2
}
